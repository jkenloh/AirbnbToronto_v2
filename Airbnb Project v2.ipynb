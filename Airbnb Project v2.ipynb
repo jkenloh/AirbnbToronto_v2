{
 "cells": [
  {
   "cell_type": "code",
   "execution_count": 1,
   "id": "37de37bb",
   "metadata": {},
   "outputs": [],
   "source": [
    "# import required libraries\n",
    "import pandas as pd\n",
    "import datetime as dt"
   ]
  },
  {
   "cell_type": "code",
   "execution_count": 2,
   "id": "49be066d",
   "metadata": {},
   "outputs": [],
   "source": [
    "# import January data from CSV into DataFrame\n",
    "df = pd.read_csv('C:/Users/Ken/Desktop/listings_jan.csv')"
   ]
  },
  {
   "cell_type": "code",
   "execution_count": 3,
   "id": "fd66de23",
   "metadata": {},
   "outputs": [
    {
     "data": {
      "text/html": [
       "<div>\n",
       "<style scoped>\n",
       "    .dataframe tbody tr th:only-of-type {\n",
       "        vertical-align: middle;\n",
       "    }\n",
       "\n",
       "    .dataframe tbody tr th {\n",
       "        vertical-align: top;\n",
       "    }\n",
       "\n",
       "    .dataframe thead th {\n",
       "        text-align: right;\n",
       "    }\n",
       "</style>\n",
       "<table border=\"1\" class=\"dataframe\">\n",
       "  <thead>\n",
       "    <tr style=\"text-align: right;\">\n",
       "      <th></th>\n",
       "      <th>id</th>\n",
       "      <th>listing_url</th>\n",
       "      <th>scrape_id</th>\n",
       "      <th>last_scraped</th>\n",
       "      <th>source</th>\n",
       "      <th>name</th>\n",
       "      <th>description</th>\n",
       "      <th>neighborhood_overview</th>\n",
       "      <th>picture_url</th>\n",
       "      <th>host_id</th>\n",
       "      <th>...</th>\n",
       "      <th>review_scores_communication</th>\n",
       "      <th>review_scores_location</th>\n",
       "      <th>review_scores_value</th>\n",
       "      <th>license</th>\n",
       "      <th>instant_bookable</th>\n",
       "      <th>calculated_host_listings_count</th>\n",
       "      <th>calculated_host_listings_count_entire_homes</th>\n",
       "      <th>calculated_host_listings_count_private_rooms</th>\n",
       "      <th>calculated_host_listings_count_shared_rooms</th>\n",
       "      <th>reviews_per_month</th>\n",
       "    </tr>\n",
       "  </thead>\n",
       "  <tbody>\n",
       "    <tr>\n",
       "      <th>0</th>\n",
       "      <td>24018771</td>\n",
       "      <td>https://www.airbnb.com/rooms/24018771</td>\n",
       "      <td>20240108030557</td>\n",
       "      <td>2024-01-08</td>\n",
       "      <td>city scrape</td>\n",
       "      <td>Home in Toronto · ★4.74 · 1 bedroom · 1 bed · ...</td>\n",
       "      <td>NaN</td>\n",
       "      <td>NaN</td>\n",
       "      <td>https://a0.muscache.com/pictures/1030ee76-f3f7...</td>\n",
       "      <td>179038571</td>\n",
       "      <td>...</td>\n",
       "      <td>4.78</td>\n",
       "      <td>4.77</td>\n",
       "      <td>4.72</td>\n",
       "      <td>STR-2009-FDSXPB</td>\n",
       "      <td>f</td>\n",
       "      <td>3</td>\n",
       "      <td>0</td>\n",
       "      <td>3</td>\n",
       "      <td>0</td>\n",
       "      <td>1.83</td>\n",
       "    </tr>\n",
       "    <tr>\n",
       "      <th>1</th>\n",
       "      <td>50680103</td>\n",
       "      <td>https://www.airbnb.com/rooms/50680103</td>\n",
       "      <td>20240108030557</td>\n",
       "      <td>2024-01-08</td>\n",
       "      <td>city scrape</td>\n",
       "      <td>Boat in Toronto · 1 bedroom · 1 bath</td>\n",
       "      <td>NaN</td>\n",
       "      <td>NaN</td>\n",
       "      <td>https://a0.muscache.com/pictures/91f84c43-e010...</td>\n",
       "      <td>396389036</td>\n",
       "      <td>...</td>\n",
       "      <td>NaN</td>\n",
       "      <td>NaN</td>\n",
       "      <td>NaN</td>\n",
       "      <td>Exempt</td>\n",
       "      <td>t</td>\n",
       "      <td>1</td>\n",
       "      <td>1</td>\n",
       "      <td>0</td>\n",
       "      <td>0</td>\n",
       "      <td>NaN</td>\n",
       "    </tr>\n",
       "    <tr>\n",
       "      <th>2</th>\n",
       "      <td>1018845223985730763</td>\n",
       "      <td>https://www.airbnb.com/rooms/1018845223985730763</td>\n",
       "      <td>20240108030557</td>\n",
       "      <td>2024-01-08</td>\n",
       "      <td>city scrape</td>\n",
       "      <td>Townhouse in Toronto · ★New · 1 bedroom · 1 be...</td>\n",
       "      <td>NaN</td>\n",
       "      <td>NaN</td>\n",
       "      <td>https://a0.muscache.com/pictures/f1e047ed-949d...</td>\n",
       "      <td>9660032</td>\n",
       "      <td>...</td>\n",
       "      <td>NaN</td>\n",
       "      <td>NaN</td>\n",
       "      <td>NaN</td>\n",
       "      <td>NaN</td>\n",
       "      <td>t</td>\n",
       "      <td>4</td>\n",
       "      <td>1</td>\n",
       "      <td>3</td>\n",
       "      <td>0</td>\n",
       "      <td>NaN</td>\n",
       "    </tr>\n",
       "  </tbody>\n",
       "</table>\n",
       "<p>3 rows × 75 columns</p>\n",
       "</div>"
      ],
      "text/plain": [
       "                    id                                       listing_url  \\\n",
       "0             24018771             https://www.airbnb.com/rooms/24018771   \n",
       "1             50680103             https://www.airbnb.com/rooms/50680103   \n",
       "2  1018845223985730763  https://www.airbnb.com/rooms/1018845223985730763   \n",
       "\n",
       "        scrape_id last_scraped       source  \\\n",
       "0  20240108030557   2024-01-08  city scrape   \n",
       "1  20240108030557   2024-01-08  city scrape   \n",
       "2  20240108030557   2024-01-08  city scrape   \n",
       "\n",
       "                                                name  description  \\\n",
       "0  Home in Toronto · ★4.74 · 1 bedroom · 1 bed · ...          NaN   \n",
       "1               Boat in Toronto · 1 bedroom · 1 bath          NaN   \n",
       "2  Townhouse in Toronto · ★New · 1 bedroom · 1 be...          NaN   \n",
       "\n",
       "  neighborhood_overview                                        picture_url  \\\n",
       "0                   NaN  https://a0.muscache.com/pictures/1030ee76-f3f7...   \n",
       "1                   NaN  https://a0.muscache.com/pictures/91f84c43-e010...   \n",
       "2                   NaN  https://a0.muscache.com/pictures/f1e047ed-949d...   \n",
       "\n",
       "     host_id  ... review_scores_communication review_scores_location  \\\n",
       "0  179038571  ...                        4.78                   4.77   \n",
       "1  396389036  ...                         NaN                    NaN   \n",
       "2    9660032  ...                         NaN                    NaN   \n",
       "\n",
       "  review_scores_value          license instant_bookable  \\\n",
       "0                4.72  STR-2009-FDSXPB                f   \n",
       "1                 NaN           Exempt                t   \n",
       "2                 NaN              NaN                t   \n",
       "\n",
       "  calculated_host_listings_count calculated_host_listings_count_entire_homes  \\\n",
       "0                              3                                           0   \n",
       "1                              1                                           1   \n",
       "2                              4                                           1   \n",
       "\n",
       "  calculated_host_listings_count_private_rooms  \\\n",
       "0                                            3   \n",
       "1                                            0   \n",
       "2                                            3   \n",
       "\n",
       "  calculated_host_listings_count_shared_rooms reviews_per_month  \n",
       "0                                           0              1.83  \n",
       "1                                           0               NaN  \n",
       "2                                           0               NaN  \n",
       "\n",
       "[3 rows x 75 columns]"
      ]
     },
     "execution_count": 3,
     "metadata": {},
     "output_type": "execute_result"
    }
   ],
   "source": [
    "# check top three rows of dataframe\n",
    "df.head(3)"
   ]
  },
  {
   "cell_type": "code",
   "execution_count": 4,
   "id": "ec6697fe",
   "metadata": {},
   "outputs": [
    {
     "data": {
      "text/plain": [
       "(20386, 75)"
      ]
     },
     "execution_count": 4,
     "metadata": {},
     "output_type": "execute_result"
    }
   ],
   "source": [
    "# checking number of rows and columns\n",
    "df.shape"
   ]
  },
  {
   "cell_type": "code",
   "execution_count": 5,
   "id": "31603144",
   "metadata": {},
   "outputs": [],
   "source": [
    "# decided to select these columns\n",
    "df_jan = df[['last_scraped', 'host_id', 'host_name', 'host_since', 'neighbourhood_cleansed', 'room_type', 'price', \\\n",
    "             'minimum_nights', 'availability_30', 'availability_60', 'availability_90','availability_365']]"
   ]
  },
  {
   "cell_type": "code",
   "execution_count": 6,
   "id": "85364f25",
   "metadata": {},
   "outputs": [
    {
     "name": "stdout",
     "output_type": "stream",
     "text": [
      "<class 'pandas.core.frame.DataFrame'>\n",
      "RangeIndex: 20386 entries, 0 to 20385\n",
      "Data columns (total 12 columns):\n",
      " #   Column                  Non-Null Count  Dtype \n",
      "---  ------                  --------------  ----- \n",
      " 0   last_scraped            20386 non-null  object\n",
      " 1   host_id                 20386 non-null  int64 \n",
      " 2   host_name               20384 non-null  object\n",
      " 3   host_since              20384 non-null  object\n",
      " 4   neighbourhood_cleansed  20386 non-null  object\n",
      " 5   room_type               20386 non-null  object\n",
      " 6   price                   16595 non-null  object\n",
      " 7   minimum_nights          20386 non-null  int64 \n",
      " 8   availability_30         20386 non-null  int64 \n",
      " 9   availability_60         20386 non-null  int64 \n",
      " 10  availability_90         20386 non-null  int64 \n",
      " 11  availability_365        20386 non-null  int64 \n",
      "dtypes: int64(6), object(6)\n",
      "memory usage: 1.9+ MB\n"
     ]
    }
   ],
   "source": [
    "# checking column data types and also checking if there are null values\n",
    "# price needs to be converted to 'float' and last_scraped converted to 'datetime' \n",
    "df_jan.info()"
   ]
  },
  {
   "cell_type": "code",
   "execution_count": 7,
   "id": "2713ef28",
   "metadata": {},
   "outputs": [],
   "source": [
    "# to remove SettingWithCopyWarning\n",
    "df_jan = df_jan.copy()"
   ]
  },
  {
   "cell_type": "code",
   "execution_count": 8,
   "id": "868a0b41",
   "metadata": {},
   "outputs": [],
   "source": [
    "# remove '$' and ',' string characters from the 'price' column and then convert it to 'float'\n",
    "df_jan['price'] = df_jan.loc[:, 'price'].str.replace('$', '').str.replace(',', '').astype(float)"
   ]
  },
  {
   "cell_type": "code",
   "execution_count": 9,
   "id": "bc3e65ab",
   "metadata": {},
   "outputs": [
    {
     "data": {
      "text/plain": [
       "dtype('float64')"
      ]
     },
     "execution_count": 9,
     "metadata": {},
     "output_type": "execute_result"
    }
   ],
   "source": [
    "# ensuring data type successfully changed to 'float'\n",
    "df_jan['price'].dtype"
   ]
  },
  {
   "cell_type": "code",
   "execution_count": 10,
   "id": "61ddb83d",
   "metadata": {},
   "outputs": [
    {
     "data": {
      "text/html": [
       "<div>\n",
       "<style scoped>\n",
       "    .dataframe tbody tr th:only-of-type {\n",
       "        vertical-align: middle;\n",
       "    }\n",
       "\n",
       "    .dataframe tbody tr th {\n",
       "        vertical-align: top;\n",
       "    }\n",
       "\n",
       "    .dataframe thead th {\n",
       "        text-align: right;\n",
       "    }\n",
       "</style>\n",
       "<table border=\"1\" class=\"dataframe\">\n",
       "  <thead>\n",
       "    <tr style=\"text-align: right;\">\n",
       "      <th></th>\n",
       "      <th>last_scraped</th>\n",
       "      <th>host_id</th>\n",
       "      <th>host_name</th>\n",
       "      <th>host_since</th>\n",
       "      <th>neighbourhood_cleansed</th>\n",
       "      <th>room_type</th>\n",
       "      <th>price</th>\n",
       "      <th>minimum_nights</th>\n",
       "      <th>availability_30</th>\n",
       "      <th>availability_60</th>\n",
       "      <th>availability_90</th>\n",
       "      <th>availability_365</th>\n",
       "      <th>date</th>\n",
       "    </tr>\n",
       "  </thead>\n",
       "  <tbody>\n",
       "    <tr>\n",
       "      <th>0</th>\n",
       "      <td>2024-01-08</td>\n",
       "      <td>179038571</td>\n",
       "      <td>Yongmei</td>\n",
       "      <td>2018-03-17</td>\n",
       "      <td>Hillcrest Village</td>\n",
       "      <td>Private room</td>\n",
       "      <td>45.0</td>\n",
       "      <td>1</td>\n",
       "      <td>14</td>\n",
       "      <td>44</td>\n",
       "      <td>74</td>\n",
       "      <td>163</td>\n",
       "      <td>January 2024</td>\n",
       "    </tr>\n",
       "    <tr>\n",
       "      <th>1</th>\n",
       "      <td>2024-01-08</td>\n",
       "      <td>396389036</td>\n",
       "      <td>Turan</td>\n",
       "      <td>2021-04-10</td>\n",
       "      <td>Waterfront Communities-The Island</td>\n",
       "      <td>Entire home/apt</td>\n",
       "      <td>180.0</td>\n",
       "      <td>28</td>\n",
       "      <td>30</td>\n",
       "      <td>60</td>\n",
       "      <td>90</td>\n",
       "      <td>365</td>\n",
       "      <td>January 2024</td>\n",
       "    </tr>\n",
       "  </tbody>\n",
       "</table>\n",
       "</div>"
      ],
      "text/plain": [
       "  last_scraped    host_id host_name  host_since  \\\n",
       "0   2024-01-08  179038571   Yongmei  2018-03-17   \n",
       "1   2024-01-08  396389036     Turan  2021-04-10   \n",
       "\n",
       "              neighbourhood_cleansed        room_type  price  minimum_nights  \\\n",
       "0                  Hillcrest Village     Private room   45.0               1   \n",
       "1  Waterfront Communities-The Island  Entire home/apt  180.0              28   \n",
       "\n",
       "   availability_30  availability_60  availability_90  availability_365  \\\n",
       "0               14               44               74               163   \n",
       "1               30               60               90               365   \n",
       "\n",
       "           date  \n",
       "0  January 2024  \n",
       "1  January 2024  "
      ]
     },
     "execution_count": 10,
     "metadata": {},
     "output_type": "execute_result"
    }
   ],
   "source": [
    "# create 'month' and 'year' columns, extracted from 'last_scraped' column\n",
    "df_jan['last_scraped'] = pd.to_datetime(df_jan['last_scraped'])\n",
    "df_jan['date'] = df_jan['last_scraped'].dt.strftime('%B') + ' ' + df_jan['last_scraped'].dt.strftime('%Y')\n",
    "df_jan.head(2)"
   ]
  },
  {
   "cell_type": "code",
   "execution_count": 11,
   "id": "bc87af7e",
   "metadata": {},
   "outputs": [],
   "source": [
    "# dealing with NaN values in 'price' column:\n",
    "# first checked the actual CSV file to manually go to the link of the AirBnB listing of the top 10 after filtering for \n",
    "# empty cells based on 'price' column. Noticed in the first 10 listings that you couldn't book them, so looked at\n",
    "# availability 30-365 days in future. Decided to filter based on empty price and also 0 days availabilty from 30-365\n",
    "# as these listings could not be booked even up to one year in the future.\n",
    "\n",
    "# create boolean mask to get rows that have NaN values for price column and 0 days for availability 30-365 days in future.\n",
    "\n",
    "mask = df_jan['price'].isna() & (df_jan['availability_30'] == 0) & (df_jan['availability_60'] == 0) & (df_jan['availability_90'] == 0) & \\\n",
    "    (df_jan['availability_365'] == 0)"
   ]
  },
  {
   "cell_type": "code",
   "execution_count": 12,
   "id": "89bd053e",
   "metadata": {},
   "outputs": [],
   "source": [
    "# apply negation of boolean mask \n",
    "df_jan = df_jan[~mask]"
   ]
  },
  {
   "cell_type": "code",
   "execution_count": 13,
   "id": "9945cac8",
   "metadata": {},
   "outputs": [
    {
     "data": {
      "text/plain": [
       "count    16595.000000\n",
       "mean       177.039168\n",
       "std        333.108977\n",
       "min          8.000000\n",
       "25%         75.000000\n",
       "50%        120.000000\n",
       "75%        195.000000\n",
       "max      12400.000000\n",
       "Name: price, dtype: float64"
      ]
     },
     "execution_count": 13,
     "metadata": {},
     "output_type": "execute_result"
    }
   ],
   "source": [
    "# check distribution of prices and min/max values\n",
    "df_jan['price'].describe()"
   ]
  },
  {
   "cell_type": "code",
   "execution_count": 14,
   "id": "021ca2cf",
   "metadata": {},
   "outputs": [],
   "source": [
    "# fill NaN values with median as the max value is too high to use mean which could skew results\n",
    "df_jan.fillna(df_jan['price'].median(), inplace=True)"
   ]
  },
  {
   "cell_type": "code",
   "execution_count": 15,
   "id": "d9dc3e5b",
   "metadata": {},
   "outputs": [
    {
     "name": "stdout",
     "output_type": "stream",
     "text": [
      "<class 'pandas.core.frame.DataFrame'>\n",
      "Index: 16707 entries, 0 to 20385\n",
      "Data columns (total 13 columns):\n",
      " #   Column                  Non-Null Count  Dtype         \n",
      "---  ------                  --------------  -----         \n",
      " 0   last_scraped            16707 non-null  datetime64[ns]\n",
      " 1   host_id                 16707 non-null  int64         \n",
      " 2   host_name               16707 non-null  object        \n",
      " 3   host_since              16707 non-null  object        \n",
      " 4   neighbourhood_cleansed  16707 non-null  object        \n",
      " 5   room_type               16707 non-null  object        \n",
      " 6   price                   16707 non-null  float64       \n",
      " 7   minimum_nights          16707 non-null  int64         \n",
      " 8   availability_30         16707 non-null  int64         \n",
      " 9   availability_60         16707 non-null  int64         \n",
      " 10  availability_90         16707 non-null  int64         \n",
      " 11  availability_365        16707 non-null  int64         \n",
      " 12  date                    16707 non-null  object        \n",
      "dtypes: datetime64[ns](1), float64(1), int64(6), object(5)\n",
      "memory usage: 1.8+ MB\n"
     ]
    }
   ],
   "source": [
    "# make sure no nulls\n",
    "df_jan.info()"
   ]
  },
  {
   "cell_type": "code",
   "execution_count": 16,
   "id": "6054e85c",
   "metadata": {},
   "outputs": [],
   "source": [
    "# drop unnecessary columns (availabilities) and last_scraped as we got what we needed from them\n",
    "df_jan.drop(columns=['last_scraped', 'availability_30', 'availability_60', 'availability_90', 'availability_365'], inplace=True)"
   ]
  },
  {
   "cell_type": "code",
   "execution_count": 17,
   "id": "eebbb646",
   "metadata": {},
   "outputs": [],
   "source": [
    "# create a csv import function to clean and modify the other five csv files in the same manner so that I can join them into one\n",
    "def csv_import(csv_location):\n",
    "    \"\"\"\n",
    "    Import csv file with same criteria\n",
    "    \"\"\"\n",
    "    df = pd.read_csv(csv_location)\n",
    "    df = df[['last_scraped', 'host_id', 'host_name', 'host_since', 'neighbourhood_cleansed', 'room_type', 'price', \\\n",
    "             'minimum_nights', 'availability_30', 'availability_60', 'availability_90','availability_365']]\n",
    "    df = df.copy()\n",
    "    # replace '$' and ',' in 'price' column and change datatype to 'float'\n",
    "    df['price'] = df.loc[:, 'price'].str.replace('$', '').str.replace(',', '').astype(float)\n",
    "    # change 'last_scraped' column to datetime in order to extract month and year\n",
    "    df['last_scraped'] = pd.to_datetime(df['last_scraped'])\n",
    "    df['date'] = df['last_scraped'].dt.strftime('%B') + ' ' + df['last_scraped'].dt.strftime('%Y')\n",
    "    # filtering rows based on NaN values in 'price' column along with 0 days available from 30-365 days in future\n",
    "    mask = df['price'].isna() & (df['availability_30'] == 0) & (df['availability_60'] == 0) & (df['availability_90'] == 0) & \\\n",
    "    (df['availability_365'] == 0)\n",
    "    df = df[~mask]\n",
    "    # fill NaN values with median value of 'price' column\n",
    "    df.fillna(df['price'].median(), inplace=True)\n",
    "    # drop unnecessary columns\n",
    "    df.drop(columns=['last_scraped', 'availability_30', 'availability_60', 'availability_90', 'availability_365'], inplace=True)\n",
    "    \n",
    "    return df"
   ]
  },
  {
   "cell_type": "code",
   "execution_count": 18,
   "id": "2966db5c",
   "metadata": {},
   "outputs": [],
   "source": [
    "# use function for December data\n",
    "df_dec = csv_import('C:/Users/Ken/Desktop/listings_dec.csv')"
   ]
  },
  {
   "cell_type": "code",
   "execution_count": 19,
   "id": "c57c2428",
   "metadata": {},
   "outputs": [
    {
     "data": {
      "text/html": [
       "<div>\n",
       "<style scoped>\n",
       "    .dataframe tbody tr th:only-of-type {\n",
       "        vertical-align: middle;\n",
       "    }\n",
       "\n",
       "    .dataframe tbody tr th {\n",
       "        vertical-align: top;\n",
       "    }\n",
       "\n",
       "    .dataframe thead th {\n",
       "        text-align: right;\n",
       "    }\n",
       "</style>\n",
       "<table border=\"1\" class=\"dataframe\">\n",
       "  <thead>\n",
       "    <tr style=\"text-align: right;\">\n",
       "      <th></th>\n",
       "      <th>host_id</th>\n",
       "      <th>host_name</th>\n",
       "      <th>host_since</th>\n",
       "      <th>neighbourhood_cleansed</th>\n",
       "      <th>room_type</th>\n",
       "      <th>price</th>\n",
       "      <th>minimum_nights</th>\n",
       "      <th>date</th>\n",
       "    </tr>\n",
       "  </thead>\n",
       "  <tbody>\n",
       "    <tr>\n",
       "      <th>0</th>\n",
       "      <td>273730029</td>\n",
       "      <td>Tran Thien Ly</td>\n",
       "      <td>2019-07-05</td>\n",
       "      <td>Humber Heights-Westmount</td>\n",
       "      <td>Private room</td>\n",
       "      <td>72.0</td>\n",
       "      <td>28</td>\n",
       "      <td>December 2023</td>\n",
       "    </tr>\n",
       "    <tr>\n",
       "      <th>1</th>\n",
       "      <td>474878080</td>\n",
       "      <td>Huu-Hoa</td>\n",
       "      <td>2022-08-13</td>\n",
       "      <td>Downsview-Roding-CFB</td>\n",
       "      <td>Private room</td>\n",
       "      <td>110.0</td>\n",
       "      <td>28</td>\n",
       "      <td>December 2023</td>\n",
       "    </tr>\n",
       "    <tr>\n",
       "      <th>2</th>\n",
       "      <td>141166875</td>\n",
       "      <td>Andrew</td>\n",
       "      <td>2017-07-18</td>\n",
       "      <td>Kingsview Village-The Westway</td>\n",
       "      <td>Private room</td>\n",
       "      <td>104.0</td>\n",
       "      <td>1</td>\n",
       "      <td>December 2023</td>\n",
       "    </tr>\n",
       "    <tr>\n",
       "      <th>3</th>\n",
       "      <td>8569918</td>\n",
       "      <td>Sharon</td>\n",
       "      <td>2013-09-01</td>\n",
       "      <td>Leaside-Bennington</td>\n",
       "      <td>Private room</td>\n",
       "      <td>120.0</td>\n",
       "      <td>28</td>\n",
       "      <td>December 2023</td>\n",
       "    </tr>\n",
       "    <tr>\n",
       "      <th>4</th>\n",
       "      <td>537627593</td>\n",
       "      <td>Qing</td>\n",
       "      <td>2023-09-17</td>\n",
       "      <td>Banbury-Don Mills</td>\n",
       "      <td>Private room</td>\n",
       "      <td>120.0</td>\n",
       "      <td>2</td>\n",
       "      <td>December 2023</td>\n",
       "    </tr>\n",
       "  </tbody>\n",
       "</table>\n",
       "</div>"
      ],
      "text/plain": [
       "     host_id      host_name  host_since         neighbourhood_cleansed  \\\n",
       "0  273730029  Tran Thien Ly  2019-07-05       Humber Heights-Westmount   \n",
       "1  474878080        Huu-Hoa  2022-08-13           Downsview-Roding-CFB   \n",
       "2  141166875         Andrew  2017-07-18  Kingsview Village-The Westway   \n",
       "3    8569918         Sharon  2013-09-01             Leaside-Bennington   \n",
       "4  537627593           Qing  2023-09-17              Banbury-Don Mills   \n",
       "\n",
       "      room_type  price  minimum_nights           date  \n",
       "0  Private room   72.0              28  December 2023  \n",
       "1  Private room  110.0              28  December 2023  \n",
       "2  Private room  104.0               1  December 2023  \n",
       "3  Private room  120.0              28  December 2023  \n",
       "4  Private room  120.0               2  December 2023  "
      ]
     },
     "execution_count": 19,
     "metadata": {},
     "output_type": "execute_result"
    }
   ],
   "source": [
    "df_dec.head()"
   ]
  },
  {
   "cell_type": "code",
   "execution_count": 20,
   "id": "07772049",
   "metadata": {},
   "outputs": [
    {
     "name": "stdout",
     "output_type": "stream",
     "text": [
      "<class 'pandas.core.frame.DataFrame'>\n",
      "Index: 19070 entries, 0 to 19993\n",
      "Data columns (total 8 columns):\n",
      " #   Column                  Non-Null Count  Dtype  \n",
      "---  ------                  --------------  -----  \n",
      " 0   host_id                 19070 non-null  int64  \n",
      " 1   host_name               19070 non-null  object \n",
      " 2   host_since              19070 non-null  object \n",
      " 3   neighbourhood_cleansed  19070 non-null  object \n",
      " 4   room_type               19070 non-null  object \n",
      " 5   price                   19070 non-null  float64\n",
      " 6   minimum_nights          19070 non-null  int64  \n",
      " 7   date                    19070 non-null  object \n",
      "dtypes: float64(1), int64(2), object(5)\n",
      "memory usage: 1.3+ MB\n"
     ]
    }
   ],
   "source": [
    "# making sure it ran correctly and no NaN in the price column\n",
    "df_dec.info()"
   ]
  },
  {
   "cell_type": "code",
   "execution_count": 21,
   "id": "3eb4947d",
   "metadata": {},
   "outputs": [],
   "source": [
    "# run it for the rest of the months\n",
    "df_nov = csv_import('C:/Users/Ken/Desktop/listings_nov.csv')\n",
    "df_oct = csv_import('C:/Users/Ken/Desktop/listings_oct.csv')\n",
    "df_sep = csv_import('C:/Users/Ken/Desktop/listings_sep.csv')\n",
    "df_aug = csv_import('C:/Users/Ken/Desktop/listings_aug.csv')"
   ]
  },
  {
   "cell_type": "code",
   "execution_count": 22,
   "id": "4a688e93",
   "metadata": {},
   "outputs": [],
   "source": [
    "# join all dataframes into one\n",
    "df = pd.concat([df_jan, df_dec, df_nov, df_oct, df_sep, df_aug])"
   ]
  },
  {
   "cell_type": "code",
   "execution_count": 23,
   "id": "1e5a392c",
   "metadata": {},
   "outputs": [
    {
     "name": "stdout",
     "output_type": "stream",
     "text": [
      "['Private room' 'Entire home/apt' 'Shared room' 'Hotel room']\n"
     ]
    },
    {
     "data": {
      "text/html": [
       "<div>\n",
       "<style scoped>\n",
       "    .dataframe tbody tr th:only-of-type {\n",
       "        vertical-align: middle;\n",
       "    }\n",
       "\n",
       "    .dataframe tbody tr th {\n",
       "        vertical-align: top;\n",
       "    }\n",
       "\n",
       "    .dataframe thead th {\n",
       "        text-align: right;\n",
       "    }\n",
       "</style>\n",
       "<table border=\"1\" class=\"dataframe\">\n",
       "  <thead>\n",
       "    <tr style=\"text-align: right;\">\n",
       "      <th></th>\n",
       "      <th>host_id</th>\n",
       "      <th>host_name</th>\n",
       "      <th>host_since</th>\n",
       "      <th>neighbourhood_cleansed</th>\n",
       "      <th>room_type</th>\n",
       "      <th>price</th>\n",
       "      <th>minimum_nights</th>\n",
       "      <th>date</th>\n",
       "    </tr>\n",
       "  </thead>\n",
       "  <tbody>\n",
       "    <tr>\n",
       "      <th>19471</th>\n",
       "      <td>124915178</td>\n",
       "      <td>Jaime</td>\n",
       "      <td>2017-04-08</td>\n",
       "      <td>East End-Danforth</td>\n",
       "      <td>Hotel room</td>\n",
       "      <td>38.0</td>\n",
       "      <td>28</td>\n",
       "      <td>December 2023</td>\n",
       "    </tr>\n",
       "    <tr>\n",
       "      <th>15651</th>\n",
       "      <td>124915178</td>\n",
       "      <td>Jaime</td>\n",
       "      <td>2017-04-08</td>\n",
       "      <td>East End-Danforth</td>\n",
       "      <td>Hotel room</td>\n",
       "      <td>38.0</td>\n",
       "      <td>28</td>\n",
       "      <td>November 2023</td>\n",
       "    </tr>\n",
       "    <tr>\n",
       "      <th>7002</th>\n",
       "      <td>124915178</td>\n",
       "      <td>Jaime</td>\n",
       "      <td>2017-04-08</td>\n",
       "      <td>East End-Danforth</td>\n",
       "      <td>Hotel room</td>\n",
       "      <td>38.0</td>\n",
       "      <td>28</td>\n",
       "      <td>October 2023</td>\n",
       "    </tr>\n",
       "    <tr>\n",
       "      <th>6991</th>\n",
       "      <td>124915178</td>\n",
       "      <td>Jaime</td>\n",
       "      <td>2017-04-08</td>\n",
       "      <td>East End-Danforth</td>\n",
       "      <td>Hotel room</td>\n",
       "      <td>38.0</td>\n",
       "      <td>28</td>\n",
       "      <td>September 2023</td>\n",
       "    </tr>\n",
       "    <tr>\n",
       "      <th>7012</th>\n",
       "      <td>124915178</td>\n",
       "      <td>Jaime</td>\n",
       "      <td>2017-04-08</td>\n",
       "      <td>East End-Danforth</td>\n",
       "      <td>Hotel room</td>\n",
       "      <td>38.0</td>\n",
       "      <td>28</td>\n",
       "      <td>August 2023</td>\n",
       "    </tr>\n",
       "  </tbody>\n",
       "</table>\n",
       "</div>"
      ],
      "text/plain": [
       "         host_id host_name  host_since neighbourhood_cleansed   room_type  \\\n",
       "19471  124915178     Jaime  2017-04-08      East End-Danforth  Hotel room   \n",
       "15651  124915178     Jaime  2017-04-08      East End-Danforth  Hotel room   \n",
       "7002   124915178     Jaime  2017-04-08      East End-Danforth  Hotel room   \n",
       "6991   124915178     Jaime  2017-04-08      East End-Danforth  Hotel room   \n",
       "7012   124915178     Jaime  2017-04-08      East End-Danforth  Hotel room   \n",
       "\n",
       "       price  minimum_nights            date  \n",
       "19471   38.0              28   December 2023  \n",
       "15651   38.0              28   November 2023  \n",
       "7002    38.0              28    October 2023  \n",
       "6991    38.0              28  September 2023  \n",
       "7012    38.0              28     August 2023  "
      ]
     },
     "execution_count": 23,
     "metadata": {},
     "output_type": "execute_result"
    }
   ],
   "source": [
    "# check for room types and remove 'Hotel room' as there is only one each month, and it is listed by the same host\n",
    "print(df['room_type'].unique())\n",
    "df[df['room_type'] == 'Hotel room']"
   ]
  },
  {
   "cell_type": "code",
   "execution_count": 24,
   "id": "6ba5cefa",
   "metadata": {},
   "outputs": [],
   "source": [
    "# drop rows with room_type equal to 'Hotel room'\n",
    "mask = df['room_type'] == 'Hotel room'\n",
    "df = df[~mask]"
   ]
  },
  {
   "cell_type": "code",
   "execution_count": 25,
   "id": "8bea5f28",
   "metadata": {},
   "outputs": [],
   "source": [
    "# reset DataFrame index\n",
    "df = df.reset_index(drop=True)"
   ]
  },
  {
   "cell_type": "code",
   "execution_count": 26,
   "id": "425aa469",
   "metadata": {},
   "outputs": [
    {
     "data": {
      "text/plain": [
       "(120517, 8)"
      ]
     },
     "execution_count": 26,
     "metadata": {},
     "output_type": "execute_result"
    }
   ],
   "source": [
    "# checking total number of rows and columns\n",
    "df.shape"
   ]
  },
  {
   "cell_type": "code",
   "execution_count": 27,
   "id": "481e2db0",
   "metadata": {},
   "outputs": [
    {
     "name": "stdout",
     "output_type": "stream",
     "text": [
      "<class 'pandas.core.frame.DataFrame'>\n",
      "RangeIndex: 120517 entries, 0 to 120516\n",
      "Data columns (total 8 columns):\n",
      " #   Column                  Non-Null Count   Dtype  \n",
      "---  ------                  --------------   -----  \n",
      " 0   host_id                 120517 non-null  int64  \n",
      " 1   host_name               120517 non-null  object \n",
      " 2   host_since              120517 non-null  object \n",
      " 3   neighbourhood_cleansed  120517 non-null  object \n",
      " 4   room_type               120517 non-null  object \n",
      " 5   price                   120517 non-null  float64\n",
      " 6   minimum_nights          120517 non-null  int64  \n",
      " 7   date                    120517 non-null  object \n",
      "dtypes: float64(1), int64(2), object(5)\n",
      "memory usage: 7.4+ MB\n"
     ]
    }
   ],
   "source": [
    "# make sure no NaN values\n",
    "# dataset ready for Tableau\n",
    "df.info()"
   ]
  },
  {
   "cell_type": "code",
   "execution_count": 28,
   "id": "f93a8462",
   "metadata": {},
   "outputs": [],
   "source": [
    "# export to CSV \n",
    "df.to_csv('C:/Users/Ken/Desktop/airbnb.csv', index=False)"
   ]
  }
 ],
 "metadata": {
  "kernelspec": {
   "display_name": "Python 3 (ipykernel)",
   "language": "python",
   "name": "python3"
  },
  "language_info": {
   "codemirror_mode": {
    "name": "ipython",
    "version": 3
   },
   "file_extension": ".py",
   "mimetype": "text/x-python",
   "name": "python",
   "nbconvert_exporter": "python",
   "pygments_lexer": "ipython3",
   "version": "3.9.18"
  }
 },
 "nbformat": 4,
 "nbformat_minor": 5
}
